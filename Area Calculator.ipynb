{
 "cells": [
  {
   "cell_type": "code",
   "execution_count": null,
   "id": "0cdc12cb",
   "metadata": {},
   "outputs": [],
   "source": [
    "\"\"\"\n",
    "This is a calculateor that cna compute the area of the followins shapes: \n",
    "Circle\n",
    "Triangle\n",
    "\"\"\"\n",
    "print(\"The calculator is ready to use\")\n",
    "name = raw_input(\"What's your name?\")\n",
    "option = raw_input(\"Enter C for Circle or T for Triangle: \")\n",
    "\n",
    "if option == 'C':\n",
    "  radius = float(raw_input(\"Enter radius: \"))\n",
    "  area = 3.14159 * (radius**2)\n",
    "  print(\"Area is: %f\" % area)\n",
    "elif option == 'T':\n",
    "  base = float(raw_input(\"Enter base: \"))\n",
    "  height = float(input(\"Enter height: \"))\n",
    "  area = 0.5*base*height\n",
    "  print(\"Area is: %f\" % area)\n",
    "else:\n",
    "  print(\"Error! Invalid shape\")\n",
    "print(\"Existing....\")"
   ]
  }
 ],
 "metadata": {
  "kernelspec": {
   "display_name": "Python 3 (ipykernel)",
   "language": "python",
   "name": "python3"
  },
  "language_info": {
   "codemirror_mode": {
    "name": "ipython",
    "version": 3
   },
   "file_extension": ".py",
   "mimetype": "text/x-python",
   "name": "python",
   "nbconvert_exporter": "python",
   "pygments_lexer": "ipython3",
   "version": "3.9.13"
  }
 },
 "nbformat": 4,
 "nbformat_minor": 5
}
